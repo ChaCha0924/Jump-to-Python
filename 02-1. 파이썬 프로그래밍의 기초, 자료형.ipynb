{
 "cells": [
  {
   "cell_type": "markdown",
   "id": "4b318c91",
   "metadata": {},
   "source": [
    "### 02-1. 파이썬 프로그래밍의 기초, 자료형"
   ]
  },
  {
   "cell_type": "markdown",
   "id": "d399d313",
   "metadata": {},
   "source": [
    "#### 숫자형\n",
    "- 숫자형태로 이루어진 자료형\n",
    "- 정수형, 실수형, 8진수와 16진수\n",
    " - 컴퓨터의 지수 표현 방식: 4.24E10(4.24 * 10^10을 의미)\n",
    " - 8진수와 16진수는 각각 0o와 0x로 표현\n",
    "- 사칙연산\n",
    " - 제곱을 나타내는 연산자: **\n",
    " - 나눗셈 연산자: /\n",
    " - 나눗셈 후 목을 반환하는 연산자: //\n",
    " - 나눗셈 후 나머지를 반환하는 연산자: %"
   ]
  },
  {
   "cell_type": "code",
   "execution_count": 3,
   "id": "0fe41796",
   "metadata": {},
   "outputs": [
    {
     "name": "stdout",
     "output_type": "stream",
     "text": [
      "1.75\n",
      "1\n",
      "3\n"
     ]
    }
   ],
   "source": [
    "a= 7 / 4 \n",
    "print(a)\n",
    "\n",
    "b= 7 // 4\n",
    "print(b)\n",
    "\n",
    "c= 7 % 4\n",
    "print(c)"
   ]
  },
  {
   "cell_type": "markdown",
   "id": "e706ccd8",
   "metadata": {},
   "source": [
    "#### 문자열 자료형-1\n",
    "- 문자, 단어 등으로 구성된 문자들의 집합으로 이루어진 자료형\n",
    "- \"따옴표로 둘러싸여 있으면 모두 문자열이라고 보면 된다\"\n",
    "- 파이선에서는 문자열을 더하거나 곱할 수 있음\n",
    "- 문자열을 만드는 방법 4가지\n",
    " - 큰따옴표로 양쪽 둘러싸기\n",
    " - 작은따옴표로 양쪽 둘러싸기\n",
    " - 큰따옴표 3개 연속으로 둘러싸기\n",
    " - 작은따옴표 3개 연속으로 둘러싸기\n",
    "- 문자열 안에 따옴표를 포함시키고 싶을 때\n",
    " - 문자열에 작은따옴표 포함시키기\n",
    " - 문자열에 큰따옴표 포함시키기\n",
    " - 따옴표 앞에 백슬래시 삽입하기\n",
    "- 여러 줄인 문자열을 변수에 대입하고 싶을 때\n",
    " - 줄을 바꾸는 이스케이프 코드 '\\n' 삽입하기\n",
    " - 연속된 작은따옴표 혹은 큰따옴표 3개 사용하기\n",
    "- 문자열의 길이를 구하고 싶을 때: len 함수 \n",
    "- 문자열 인덱싱(가리킨다)과 슬라이싱(잘라낸다)\n",
    " - \"파이썬은 0부터 숫자를 센다\"\n",
    " - a[시작번호:끝번호]에서 끝번호는 포함되지 않음\n",
    " - 시작번호: <=\n",
    " - 끝번호: <\n",
    " - \"문자열 자료형은 그 요솟값을 변경할 수 없다\""
   ]
  },
  {
   "cell_type": "code",
   "execution_count": 4,
   "id": "fe84eeea",
   "metadata": {},
   "outputs": [
    {
     "name": "stdout",
     "output_type": "stream",
     "text": [
      "Python's favorite food is perl\n"
     ]
    }
   ],
   "source": [
    "# 문자열에 작은따옴표 포함시키기\n",
    "food = \"Python's favorite food is perl\"\n",
    "print(food)"
   ]
  },
  {
   "cell_type": "code",
   "execution_count": 5,
   "id": "3d289a2f",
   "metadata": {},
   "outputs": [
    {
     "name": "stdout",
     "output_type": "stream",
     "text": [
      "\"Python is very easy.\" he says.\n"
     ]
    }
   ],
   "source": [
    "# 문자열에 큰따옴표 포함시키기\n",
    "say = '\"Python is very easy.\" he says.'\n",
    "print(say)"
   ]
  },
  {
   "cell_type": "code",
   "execution_count": 9,
   "id": "c69196fc",
   "metadata": {},
   "outputs": [
    {
     "name": "stdout",
     "output_type": "stream",
     "text": [
      "Python's favorite food is perl\n",
      "\"Python is very easy.\" he says.\n"
     ]
    }
   ],
   "source": [
    "# 백슬래시 사용해서 따옴표 문자열에 포함시키기\n",
    "food = 'Python\\'s favorite food is perl'\n",
    "say = \"\\\"Python is very easy.\\\" he says.\"\n",
    "print(food)\n",
    "print(say)"
   ]
  },
  {
   "cell_type": "code",
   "execution_count": 10,
   "id": "0d3a5af9",
   "metadata": {},
   "outputs": [
    {
     "name": "stdout",
     "output_type": "stream",
     "text": [
      "Life is too short\n",
      "You need python\n"
     ]
    }
   ],
   "source": [
    "# 줄을 바꾸는 이스케이프 코드 '\\n' 삽입하기\n",
    "multiline = \"Life is too short\\nYou need python\"\n",
    "print(multiline)"
   ]
  },
  {
   "cell_type": "code",
   "execution_count": 12,
   "id": "3ca94a11",
   "metadata": {},
   "outputs": [
    {
     "name": "stdout",
     "output_type": "stream",
     "text": [
      "\n",
      "Life is too short\n",
      "You need python\n",
      "\n"
     ]
    }
   ],
   "source": [
    "# 연속된 따옴표 3개 사용하기\n",
    "multiline = '''\n",
    "Life is too short\n",
    "You need python\n",
    "'''\n",
    "print(multiline)"
   ]
  },
  {
   "cell_type": "code",
   "execution_count": 16,
   "id": "fa3dbd67",
   "metadata": {},
   "outputs": [
    {
     "name": "stdout",
     "output_type": "stream",
     "text": [
      "Python is fun!\n",
      "pythonpython\n",
      "==================================================\n",
      "My program\n",
      "==================================================\n"
     ]
    }
   ],
   "source": [
    "# 문자열 더하기와 곱하기\n",
    "head = \"Python\"\n",
    "tail = \" is fun!\"\n",
    "print(head + tail)\n",
    "\n",
    "a = \"python\"\n",
    "print(a * 2)\n",
    "\n",
    "print(\"=\" * 50)\n",
    "print(\"My program\")\n",
    "print(\"=\" * 50)"
   ]
  },
  {
   "cell_type": "code",
   "execution_count": 17,
   "id": "7e5ba570",
   "metadata": {},
   "outputs": [
    {
     "data": {
      "text/plain": [
       "17"
      ]
     },
     "execution_count": 17,
     "metadata": {},
     "output_type": "execute_result"
    }
   ],
   "source": [
    "# 문자열 길이 구하기\n",
    "a = \"Life is too short\"\n",
    "len(a)"
   ]
  },
  {
   "cell_type": "code",
   "execution_count": 19,
   "id": "552d124f",
   "metadata": {},
   "outputs": [
    {
     "name": "stdout",
     "output_type": "stream",
     "text": [
      "n\n",
      "L\n"
     ]
    }
   ],
   "source": [
    "# 문자열 인덱싱\n",
    "a = \"Life is too short, You need Python\"\n",
    "print(a[-1])\n",
    "print(a[-0])"
   ]
  },
  {
   "cell_type": "code",
   "execution_count": 22,
   "id": "41f2e07f",
   "metadata": {},
   "outputs": [
    {
     "name": "stdout",
     "output_type": "stream",
     "text": [
      "Life\n",
      "Lif\n",
      "is too short, You need Python\n",
      "Life is too short, You need Python\n"
     ]
    }
   ],
   "source": [
    "# 문자열 슬라이싱\n",
    "a = \"Life is too short, You need Python\"\n",
    "print(a[0:4])\n",
    "print(a[0:3])\n",
    "print(a[5:])\n",
    "print(a[:])"
   ]
  },
  {
   "cell_type": "code",
   "execution_count": 2,
   "id": "aae82ef0",
   "metadata": {},
   "outputs": [
    {
     "name": "stdout",
     "output_type": "stream",
     "text": [
      "2001\n",
      "0331\n",
      "Rainy\n"
     ]
    }
   ],
   "source": [
    "# 슬라이싱으로 문자열 나누기\n",
    "a = \"20010331Rainy\"\n",
    "year = a[:4]\n",
    "day = a[4:8]\n",
    "weather = a[8:]\n",
    "print(year)\n",
    "print(day)\n",
    "print(weather)"
   ]
  },
  {
   "cell_type": "markdown",
   "id": "9b4fcbc7",
   "metadata": {},
   "source": [
    "#### 문자열 자료형-2\n",
    "- 문자열 포매팅\n",
    " - 문자열 안에 어떤 값을 삽입하는 방법\n",
    " - 문자열 안의 특정한 값을 바꿔야 할 경우 사용\n",
    " - 문자열 포맷 코드 %s는 어떤 형태의 값이든 변환해 넣을 수 있음\n",
    "- 문자열 관련 함수(내장함수)\n",
    " - 문자 개수 세기(count)\n",
    " - 위치 알려주기(find, index)\n",
    " - 문자열 삽입(join)\n",
    " - 소문자 대문자로 바꾸기(upper)\n",
    " - 대문자 소문자로 바꾸기(lower)\n",
    " - 왼쪽 공백 지우기(lstrip)\n",
    " - 오른쪽 공백 지우기(rstrip)\n",
    " - 양쪽 공백 지우기(strip)\n",
    " - 문자열 바꾸기(replace)\n",
    " - 문자열 나누기(split)"
   ]
  },
  {
   "cell_type": "code",
   "execution_count": 4,
   "id": "5b4fd94c",
   "metadata": {},
   "outputs": [
    {
     "name": "stdout",
     "output_type": "stream",
     "text": [
      "I eat 3 apples.\n",
      "I eat five apples.\n",
      "I ate 10 apples. so I was sick for three days.\n"
     ]
    }
   ],
   "source": [
    "# 문자열 포매팅\n",
    "print(\"I eat %d apples.\" % 3)\n",
    "print(\"I eat %s apples.\" % \"five\")\n",
    "print(\"Error is %d%%\" % 98)\n",
    "\n",
    "number = 10\n",
    "day = \"three\"\n",
    "print(\"I ate %d apples. so I was sick for %s days.\" % (number, day))"
   ]
  },
  {
   "cell_type": "code",
   "execution_count": 7,
   "id": "f3678944",
   "metadata": {},
   "outputs": [
    {
     "name": "stdout",
     "output_type": "stream",
     "text": [
      "        hi\n",
      "hi        jane\n",
      "3.4213\n",
      "    3.4213\n"
     ]
    }
   ],
   "source": [
    "# 문자열 포매팅 활용\n",
    "print(\"%10s\" % \"hi\")\n",
    "print(\"%-10sjane\" % \"hi\")\n",
    "print(\"%0.4f\" % 3.42134234)\n",
    "print(\"%10.4f\" % 3.42134234)"
   ]
  },
  {
   "cell_type": "code",
   "execution_count": 10,
   "id": "742a343c",
   "metadata": {},
   "outputs": [
    {
     "name": "stdout",
     "output_type": "stream",
     "text": [
      "I eat five apples\n",
      "I ate 10 apples. so I was sick for 3 days.\n",
      "I eat 10 apples. so I was sick for three days.\n"
     ]
    }
   ],
   "source": [
    "# format 함수를 사용한 포매팅\n",
    "print(\"I eat {0} apples\".format(\"five\"))\n",
    "print(\"I ate {0} apples. so I was sick for {day} days.\".format(10, day = 3))\n",
    "number = 10\n",
    "day = \"three\"\n",
    "print(\"I eat {0} apples. so I was sick for {1} days.\".format(number, day))\n"
   ]
  },
  {
   "cell_type": "code",
   "execution_count": 14,
   "id": "29619f42",
   "metadata": {},
   "outputs": [
    {
     "name": "stdout",
     "output_type": "stream",
     "text": [
      "hi        \n",
      "        hi\n",
      "    hi    \n",
      "hi========\n",
      "{and}\n",
      "3.4213\n"
     ]
    }
   ],
   "source": [
    "# 왼쪽 정렬, 오른쪽 정렬, 가운데 정렬, 공백 채우기, 소수점 표현하기, {또는} 문자 표현하기\n",
    "print(\"{0:<10}\".format(\"hi\"))\n",
    "print(\"{0:>10}\".format(\"hi\"))\n",
    "print(\"{0:^10}\".format(\"hi\"))\n",
    "print(\"{0:=<10}\".format(\"hi\"))\n",
    "print(\"{{and}}\".format())\n",
    "\n",
    "y = 3.42134234\n",
    "print(\"{0:0.4f}\".format(y))     "
   ]
  },
  {
   "cell_type": "code",
   "execution_count": 20,
   "id": "33049ff3",
   "metadata": {},
   "outputs": [
    {
     "name": "stdout",
     "output_type": "stream",
     "text": [
      "나의 이름은 홍길동입니다. 나이는 30입니다.\n",
      "나는 내년이면 31살이 된다.\n"
     ]
    }
   ],
   "source": [
    "# f문자열 포매팅\n",
    "name = \"홍길동\"\n",
    "age = 30\n",
    "print(f'나의 이름은 {name}입니다. 나이는 {age}입니다.')\n",
    "print(f'나는 내년이면 {age+1}살이 된다.')"
   ]
  },
  {
   "cell_type": "code",
   "execution_count": 18,
   "id": "289f34f8",
   "metadata": {},
   "outputs": [
    {
     "name": "stdout",
     "output_type": "stream",
     "text": [
      "나의 이름은 홍길동입니다. 나이는 30입니다.\n"
     ]
    }
   ],
   "source": [
    "# f문자열 포매팅(딕셔너리)\n",
    "d = {'name':'홍길동', 'age':30}\n",
    "print(f'나의 이름은 {d[\"name\"]}입니다. 나이는 {d[\"age\"]}입니다.')"
   ]
  },
  {
   "cell_type": "code",
   "execution_count": 23,
   "id": "cfc834da",
   "metadata": {},
   "outputs": [
    {
     "name": "stdout",
     "output_type": "stream",
     "text": [
      "hi        \n",
      "        hi\n",
      "    hi    \n",
      "====hi====\n",
      "{and}\n",
      "3.4213\n"
     ]
    }
   ],
   "source": [
    "# 왼쪽 정렬, 오른쪽 정렬, 가운데 정렬, 공백 채우기, 소수점 표현하기, {또는} 문자 표현하기\n",
    "print(f'{\"hi\":<10}')\n",
    "print(f'{\"hi\":>10}')\n",
    "print(f'{\"hi\":^10}')\n",
    "print(f'{\"hi\":=^10}')\n",
    "print(f'{{and}}')\n",
    "\n",
    "y = 3.42134234\n",
    "print(f'{y:0.4f}')"
   ]
  },
  {
   "cell_type": "code",
   "execution_count": 25,
   "id": "2d8dadbb",
   "metadata": {},
   "outputs": [
    {
     "name": "stdout",
     "output_type": "stream",
     "text": [
      "2\n",
      "14\n",
      "8\n",
      "a,b,c,d\n",
      "a,b,c,d\n",
      "HI\n",
      "hi\n"
     ]
    }
   ],
   "source": [
    "# 문자 개수 세기, 위치 알려주기, 문자열 삽입, 소문자 대문자로 바꾸기, 대문자 소문자로 바꾸기\n",
    "a = \"hobby\"\n",
    "print(a.count('b'))\n",
    "\n",
    "b= \"Python is the best choice\"\n",
    "print(b.find('b')) # 찾는 문자나 문자열이 존재하지 않는다면 -1을 반환\n",
    "\n",
    "c = \"Life is too short\"\n",
    "print(c.index('t')) #찾는 문자나 문자열이 존재하지 않는다면 오류 발생(find와의 차이점)\n",
    "\n",
    "print(\",\".join('abcd'))\n",
    "print(\",\".join(['a', 'b', 'c', 'd']))\n",
    "\n",
    "d = \"hi\"\n",
    "print(d.upper())\n",
    "\n",
    "e = \"HI\"\n",
    "print(e.lower())"
   ]
  },
  {
   "cell_type": "code",
   "execution_count": 27,
   "id": "d1c5cd71",
   "metadata": {},
   "outputs": [
    {
     "name": "stdout",
     "output_type": "stream",
     "text": [
      "hi \n",
      " hi\n",
      "hi\n",
      "Your leg is too short\n",
      "['Life', 'is', 'too', 'short']\n"
     ]
    }
   ],
   "source": [
    "# 왼쪽 공백 지우기, 오른쪽 공백 지우기, 양쪽 공백 지우기, 문자열 바꾸기, 문자열 나누기\n",
    "a = \" hi \"\n",
    "print(a.lstrip()) # Left를 의미\n",
    "print(a.rstrip())\n",
    "print(a.strip())\n",
    "\n",
    "b = \"Life is too short\"\n",
    "print(b.replace(\"Life\", \"Your leg\")) # replace(바뀌게 될 문자열, 바꿀 문자열)\n",
    "print(b.split())"
   ]
  }
 ],
 "metadata": {
  "kernelspec": {
   "display_name": "Python 3 (ipykernel)",
   "language": "python",
   "name": "python3"
  },
  "language_info": {
   "codemirror_mode": {
    "name": "ipython",
    "version": 3
   },
   "file_extension": ".py",
   "mimetype": "text/x-python",
   "name": "python",
   "nbconvert_exporter": "python",
   "pygments_lexer": "ipython3",
   "version": "3.9.7"
  }
 },
 "nbformat": 4,
 "nbformat_minor": 5
}
