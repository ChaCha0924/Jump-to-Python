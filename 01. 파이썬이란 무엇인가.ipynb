{
 "cells": [
  {
   "cell_type": "markdown",
   "id": "5339bb1c",
   "metadata": {},
   "source": [
    "# Do it! 점프 투 파이썬\n",
    "## \"Life is too short, You need Python.\""
   ]
  },
  {
   "cell_type": "markdown",
   "id": "b2291408",
   "metadata": {},
   "source": [
    "### 01. 파이썬이란 무엇인가?\n",
    "\n",
    "#### 파이썬이란?\n",
    " - 인터프리터 언어(한 줄씩 소스코드를 해석해서 실행결과 확인 가능)\n",
    " - 공동작업과 유지보수가 매우 쉽고 편함\n",
    "\n",
    "#### 파이썬의 특징\n",
    " - 사람이 생각하는 방식을 그대로 표현 가능\n",
    " - 문법체계가 아주 쉽고 간결함\n",
    " - 무료(오픈소스)이지만 강력함(EX: 파이썬 라이브러리)\n",
    " - 파이썬 프로그램은 들여쓰기를 하지 않으면 실행되지 않음\n",
    " - 개발속도가 빠름\n",
    " \n",
    "#### 파이썬으로 무엇을 할 수 있을까?\n",
    " - 파이썬으로 할 수 있는 일: 시스템 유틸리티(컴퓨터 사용에 도움을 주는 소프트웨어) 제작, GUI 프로그래밍(EX: Tkinter), C/C++의 결합, 웹 프로그래밍, 수치 연산 프로그래밍(EX: NumPy), 데이터베이스 프로그래밍, 데이터분석(EX: Pandas), 사물 인터넷\n",
    " - 파이썬으로 할 수 없는 일: 시스템과 밀접한 프로그래밍 영역(빠른 속도와 하드웨어 관련 프로그램 불가), 모바일 프로그래밍\n",
    "\n",
    "#### More Information\n",
    "- 대화형 인터프리터(셸) 종료법: Ctrl + Z -> Enter\n",
    " - 대화형 인터프리터는 복잡한 소스 코드를 가진 프로그램을 만들 때 불편함 -> 에디터 사용\n",
    " - 에디터: 소스 코드를 편집할 수 있는 프로그래밍 툴(EX: IDLE)\n",
    "\n",
    "- \"파이썬은 대소문자를 구별한다\"\n",
    "- 주석문이 여러줄이면 \"\"\" \"\"\" 사용"
   ]
  },
  {
   "cell_type": "code",
   "execution_count": 1,
   "id": "9cafa83f",
   "metadata": {},
   "outputs": [
    {
     "name": "stdout",
     "output_type": "stream",
     "text": [
      "python interperter\n",
      "  perl interperter\n",
      "     c compiler\n",
      "  java compiler\n"
     ]
    }
   ],
   "source": [
    "# simple.py\n",
    "languages = ['python', 'perl', 'c', 'java']\n",
    "\n",
    "for lang in languages:\n",
    "    if lang in ['python', 'perl']:\n",
    "        print(\"%6s interperter\" % lang)\n",
    "    elif lang in ['c', 'java']:\n",
    "        print(\"%6s compiler\" % lang) \n",
    "    else:\n",
    "        print(\"should not reach here\")"
   ]
  },
  {
   "cell_type": "code",
   "execution_count": 6,
   "id": "66fd7094",
   "metadata": {},
   "outputs": [
    {
     "name": "stdout",
     "output_type": "stream",
     "text": [
      "a is greater than 1\n"
     ]
    }
   ],
   "source": [
    "a = 3\n",
    "if a > 1:\n",
    "    print(\"a is greater than 1\") # 들여쓰기 중요(Tap = Space 4칸)"
   ]
  },
  {
   "cell_type": "code",
   "execution_count": 8,
   "id": "83861c55",
   "metadata": {},
   "outputs": [
    {
     "name": "stdout",
     "output_type": "stream",
     "text": [
      "1\n",
      "2\n",
      "3\n"
     ]
    }
   ],
   "source": [
    "for a in [1, 2, 3]:\n",
    "    print(a)"
   ]
  },
  {
   "cell_type": "code",
   "execution_count": 9,
   "id": "624a527e",
   "metadata": {},
   "outputs": [
    {
     "name": "stdout",
     "output_type": "stream",
     "text": [
      "1\n",
      "2\n",
      "3\n"
     ]
    }
   ],
   "source": [
    "i = 0\n",
    "while i <3:\n",
    "    i = i + 1\n",
    "    print(i)"
   ]
  },
  {
   "cell_type": "code",
   "execution_count": 11,
   "id": "75eb01cd",
   "metadata": {},
   "outputs": [
    {
     "data": {
      "text/plain": [
       "7"
      ]
     },
     "execution_count": 11,
     "metadata": {},
     "output_type": "execute_result"
    }
   ],
   "source": [
    "def add(a, b): # def: 함수를 만들 때 사용하는 예약어(문법적인 용도로 사용하고 있는 단어)\n",
    "    return a + b\n",
    "add (3, 4)"
   ]
  }
 ],
 "metadata": {
  "kernelspec": {
   "display_name": "Python 3 (ipykernel)",
   "language": "python",
   "name": "python3"
  },
  "language_info": {
   "codemirror_mode": {
    "name": "ipython",
    "version": 3
   },
   "file_extension": ".py",
   "mimetype": "text/x-python",
   "name": "python",
   "nbconvert_exporter": "python",
   "pygments_lexer": "ipython3",
   "version": "3.9.7"
  }
 },
 "nbformat": 4,
 "nbformat_minor": 5
}
