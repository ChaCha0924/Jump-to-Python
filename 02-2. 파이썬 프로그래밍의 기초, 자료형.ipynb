{
 "cells": [
  {
   "cell_type": "markdown",
   "id": "3997e6a4",
   "metadata": {},
   "source": [
    "### 02-2. 파이썬 프로그래밍의 기초, 자료형"
   ]
  },
  {
   "cell_type": "markdown",
   "id": "ef8ede0e",
   "metadata": {},
   "source": [
    "#### 리스트 자료형\n",
    "- 리스트 명 = [요소1, 요소2, ...]\n",
    "- 리스트 안에는 어떠한 자료형도 포함시킬 수 있음\n",
    "- 리스트도 인덱싱과 슬라이싱이 가능\n",
    "- 덧셈과 곱셈(반복하기) 가능\n",
    "- 값을 수정하거나 삭제할 수 있음\n",
    " - 삭제는 del 함수 이용\n",
    "- 리스트 관련 함수\n",
    " - 리스트에 요소 추가(append)\n",
    " - 리스트 정렬(sort)\n",
    " - 리스트 뒤집기(reverse)\n",
    " - 위치 반환(index)\n",
    " - 리스트에 요소 삽입(insert)\n",
    " - 리스트 요소 제거(remove)\n",
    " - 리스트 요소 끄집어내기(pop)\n",
    " - 리스트에 포함된 요소 개수 세기(count)\n",
    " - 리스트 확장(extend)"
   ]
  },
  {
   "cell_type": "code",
   "execution_count": 3,
   "id": "13b78a46",
   "metadata": {},
   "outputs": [
    {
     "name": "stdout",
     "output_type": "stream",
     "text": [
      "a\n",
      "Life\n",
      "[1, 2]\n",
      "['a', 'b']\n"
     ]
    }
   ],
   "source": [
    "# 리스트 인덱싱과 슬라이싱\n",
    "a = [1, 2, 3, ['a', 'b', 'c']]\n",
    "print(a[3][0])\n",
    "\n",
    "b = [1, 2, ['a', 'b', ['Life', 'is']]]\n",
    "print(b[2][2][0])\n",
    "\n",
    "c = [1, 2, 3, 4, 5]\n",
    "print(c[:2])\n",
    "\n",
    "d = [1, 2, 3, ['a','b', 'c'], 4, 5]\n",
    "print(a[3][:2])"
   ]
  },
  {
   "cell_type": "code",
   "execution_count": 5,
   "id": "155e1dae",
   "metadata": {},
   "outputs": [
    {
     "name": "stdout",
     "output_type": "stream",
     "text": [
      "3hi\n"
     ]
    }
   ],
   "source": [
    "# 리스트 연산 오류(\"정수와 문자열은 더할 수 없다\")\n",
    "a = [1, 2, 3]\n",
    "print(str(a[2]) + \"hi\")"
   ]
  },
  {
   "cell_type": "code",
   "execution_count": 6,
   "id": "160fdcb4",
   "metadata": {},
   "outputs": [
    {
     "name": "stdout",
     "output_type": "stream",
     "text": [
      "[1, 2, 4]\n",
      "[1, 4]\n",
      "[1, 2]\n"
     ]
    }
   ],
   "source": [
    "# 리스트의 수정과 삭제\n",
    "a = [1, 2, 3]\n",
    "a[2] = 4\n",
    "print(a)\n",
    "\n",
    "del a[1]\n",
    "print(a)\n",
    "\n",
    "b = [1, 2, 3, 4, 5]\n",
    "del b[2:]\n",
    "print(b)"
   ]
  },
  {
   "cell_type": "code",
   "execution_count": 15,
   "id": "c12106d1",
   "metadata": {},
   "outputs": [
    {
     "name": "stdout",
     "output_type": "stream",
     "text": [
      "[1, 2, 3, 4, [4, 5]]\n",
      "[1, 2, 3, 4]\n",
      "['c', 'b', 'a']\n",
      "2\n",
      "[4, 1, 2, 3]\n",
      "3\n"
     ]
    }
   ],
   "source": [
    "# 리스트에 요소 추가, 정렬, 뒤집기. 위치반환, 요소 삽입 및 제거\n",
    "a = [1, 2, 3]\n",
    "a.append(4)\n",
    "a.append([4, 5])\n",
    "print(a)\n",
    "\n",
    "b = [1, 4, 3, 2]\n",
    "b.sort()\n",
    "print(b)\n",
    "\n",
    "c = ['a', 'b', 'c'] # 순서대로 정렬후 역순으로 정렬하는 것이 아니라 현재의 리스트를 거꾸로 뒤집음\n",
    "c.reverse()\n",
    "print(c)\n",
    "\n",
    "c = [1, 2, 3]\n",
    "print(a.index(3))\n",
    "\n",
    "d = [1, 2, 3] # insert(a, b): 리스트의 a번째 위치에 b를 삽입하는 하수\n",
    "d.insert(0, 4)\n",
    "print(d)\n",
    "\n",
    "e = [1, 2, 3, 1, 2, 3]\n",
    "e.remove(3)\n",
    "print(3)"
   ]
  },
  {
   "cell_type": "code",
   "execution_count": 16,
   "id": "8cbb268e",
   "metadata": {},
   "outputs": [
    {
     "name": "stdout",
     "output_type": "stream",
     "text": [
      "[1, 2]\n",
      "2\n",
      "[1, 2, 3, 4, 5]\n"
     ]
    }
   ],
   "source": [
    "# 리스트 요소 끄집어내기, 개수 세기, \n",
    "a = [1, 2, 3] # pop()은 리스트의 맨 마지막 요소를 돌려주고 그 요소는 삭제함\n",
    "a.pop()\n",
    "print(a)\n",
    "\n",
    "b = [1, 2, 3, 1]\n",
    "print(b.count(1))\n",
    "\n",
    "c = [1, 2, 3] # extend에는 리스트만 올 수 있으며 원래의 리스트에 리스트를 더함\n",
    "c.extend([4, 5])\n",
    "print(c)"
   ]
  },
  {
   "cell_type": "markdown",
   "id": "05a021be",
   "metadata": {},
   "source": [
    "#### 튜플 자료형\n",
    "- 리스트와의 다른점\n",
    " - 리스트는 []로 둘러싸지만 튜플은 ()로 둘러싼다\n",
    " - 리스트는 그 값의 생성.삭제.수정이 가능하지만 튜플은 그 값을 바꿀 수 없다\n",
    "- 튜플은 단지 1개의 요소만을 가질 때에도 콤마(,)를 붙여야 함\n",
    "- 괄호를 생략해도 무방함\n",
    "- 튜플의 요솟값은 한 번 정하면 지우거나 변경할 수 없다"
   ]
  },
  {
   "cell_type": "code",
   "execution_count": 1,
   "id": "bcfbb52a",
   "metadata": {},
   "outputs": [
    {
     "name": "stdout",
     "output_type": "stream",
     "text": [
      "1\n",
      "(2, 'a', 'b')\n",
      "(1, 2, 'a', 'b', 3, 4)\n",
      "(3, 4, 3, 4, 3, 4)\n",
      "4\n"
     ]
    }
   ],
   "source": [
    "# 인덱싱하기, 슬라이싱하기, 튜플 더하기, 곱하기, 길이 구하기\n",
    "t1 = (1, 2, 'a', 'b')\n",
    "print(t1[0])\n",
    "print(t1[1:])\n",
    " \n",
    "t2 = (3, 4)\n",
    "print(t1 + t2)\n",
    "print(t2 * 3)\n",
    "print(len(t1))"
   ]
  },
  {
   "cell_type": "markdown",
   "id": "5581c8d4",
   "metadata": {},
   "source": [
    "#### 딕셔너리 자료형\n",
    "- Key와 Value를 한 쌍으로 갖는 자료형\n",
    "- {Key1:Value1, Key2:Value2, ...}\n",
    "- Key에는 변하지 않는 값을 사용하고 Value에는 변하는 값과 변하지 않는 값 모두 사용할 수 있음\n",
    "- \"딕셔너리는 리스트나 튜플에 있는 인덱싱 방법을 적용할 수 없다\"\n",
    "- Key가 중복되었을 때 1개를 제외한 나머지 Key:Value값이 모두 무시됨\n",
    "- Key에는 리스트를 쓸 수 없음(튜플은 사용 가능)\n",
    "- 딕셔너리 관련 함수\n",
    " - Key 리스트 만들기(keys)\n",
    " - Value 리스트 만들기(values)\n",
    " - Key, Value 쌍 얻기(items)\n",
    " - Key:Value 쌍 모두 지우기(clear)\n",
    " - Key로 Value 얻기(get)\n",
    " - 해당 Key가 딕셔너리 안에 있는지 조사하기(in)"
   ]
  },
  {
   "cell_type": "code",
   "execution_count": 2,
   "id": "f097c139",
   "metadata": {},
   "outputs": [
    {
     "name": "stdout",
     "output_type": "stream",
     "text": [
      "{1: 'a', 2: 'b', 'name': 'pey', 3: [1, 2, 3]}\n",
      "{2: 'b', 'name': 'pey', 3: [1, 2, 3]}\n"
     ]
    }
   ],
   "source": [
    "# 딕셔너리 쌍 추가하기, 요소 삭제하기\n",
    "a = {1:'a'}\n",
    "a[2] = 'b'\n",
    "a['name'] = 'pey'\n",
    "a[3] = [1, 2, 3]\n",
    "print(a)\n",
    "\n",
    "del a[1]\n",
    "print(a)"
   ]
  },
  {
   "cell_type": "code",
   "execution_count": 6,
   "id": "48f669dc",
   "metadata": {},
   "outputs": [
    {
     "name": "stdout",
     "output_type": "stream",
     "text": [
      "10\n",
      "pey\n"
     ]
    }
   ],
   "source": [
    "# 딕셔너리에서 Key 사용해 Value 얻기\n",
    "grade = {'pey':10, 'julliet':99}\n",
    "print(grade['pey'])\n",
    " \n",
    "dict = {'name':'pey', 'phone':'0119993323', 'birth':'1118'}\n",
    "print(dict['name'])"
   ]
  },
  {
   "cell_type": "code",
   "execution_count": null,
   "id": "0e90d230",
   "metadata": {},
   "outputs": [],
   "source": [
    "# 딕셔너리 주의사항(중복된 값)\n",
    "a = {1:'a', 1:'b'}\n",
    "print(a)"
   ]
  },
  {
   "cell_type": "code",
   "execution_count": 5,
   "id": "99ee81f0",
   "metadata": {},
   "outputs": [
    {
     "name": "stdout",
     "output_type": "stream",
     "text": [
      "dict_keys(['name', 'phone', 'birth'])\n",
      "name\n",
      "phone\n",
      "birth\n",
      "['name', 'phone', 'birth']\n",
      "dict_values(['pey', '0119993323', '1118'])\n",
      "dict_items([('name', 'pey'), ('phone', '0119993323'), ('birth', '1118')])\n",
      "None\n"
     ]
    }
   ],
   "source": [
    "# Key 리스트 만들기, Value 리스트 만들기, Key와 Value 쌍 얻기, 쌍 모두 지우기\n",
    "a = {'name':'pey', 'phone':'0119993323', 'birth':'1118'}\n",
    "print(a.keys()) # a.keys()는 딕셔너리 a의 Key만 모아서 dict_keys 객체를 돌려줌\n",
    "\n",
    "for k in a.keys():\n",
    "    print(k)\n",
    "    \n",
    "print(list(a.keys())) # dict_key 객체를 리스트로 반환하는 방법\n",
    "print(a.values())\n",
    "print(a.items()) # items 함수는 Key와 Value의 쌍을 튜플로 묶은 값은 dict_items로 돌려줌\n",
    "print(a.clear()) # clear함수는 딕셔너리 안의 모든 요소를 삭제함"
   ]
  },
  {
   "cell_type": "code",
   "execution_count": 9,
   "id": "cd388ca4",
   "metadata": {},
   "outputs": [
    {
     "name": "stdout",
     "output_type": "stream",
     "text": [
      "pey\n",
      "True\n",
      "None\n"
     ]
    },
    {
     "ename": "KeyError",
     "evalue": "'nokey'",
     "output_type": "error",
     "traceback": [
      "\u001b[1;31m---------------------------------------------------------------------------\u001b[0m",
      "\u001b[1;31mKeyError\u001b[0m                                  Traceback (most recent call last)",
      "\u001b[1;32m~\\AppData\\Local\\Temp/ipykernel_18840/1339592209.py\u001b[0m in \u001b[0;36m<module>\u001b[1;34m\u001b[0m\n\u001b[0;32m      4\u001b[0m \u001b[0mprint\u001b[0m\u001b[1;33m(\u001b[0m\u001b[1;34m'name'\u001b[0m \u001b[1;32min\u001b[0m \u001b[0ma\u001b[0m\u001b[1;33m)\u001b[0m\u001b[1;33m\u001b[0m\u001b[1;33m\u001b[0m\u001b[0m\n\u001b[0;32m      5\u001b[0m \u001b[0mprint\u001b[0m\u001b[1;33m(\u001b[0m\u001b[0ma\u001b[0m\u001b[1;33m.\u001b[0m\u001b[0mget\u001b[0m\u001b[1;33m(\u001b[0m\u001b[1;34m'nokey'\u001b[0m\u001b[1;33m)\u001b[0m\u001b[1;33m)\u001b[0m \u001b[1;31m# 오류발생 VS None값\u001b[0m\u001b[1;33m\u001b[0m\u001b[1;33m\u001b[0m\u001b[0m\n\u001b[1;32m----> 6\u001b[1;33m \u001b[0mprint\u001b[0m\u001b[1;33m(\u001b[0m\u001b[0ma\u001b[0m\u001b[1;33m[\u001b[0m\u001b[1;34m'nokey'\u001b[0m\u001b[1;33m]\u001b[0m\u001b[1;33m)\u001b[0m\u001b[1;33m\u001b[0m\u001b[1;33m\u001b[0m\u001b[0m\n\u001b[0m",
      "\u001b[1;31mKeyError\u001b[0m: 'nokey'"
     ]
    }
   ],
   "source": [
    "# Key로 Value 얻기, 해당 Key가 딕셔너리에 안에 있는지 조사하기\n",
    "a = {'name':'pey', 'phone':'0119993323', 'birth':'1118'}\n",
    "print(a.get('name')) # get함수는 Key에 대응되는 Value값을 돌려줌\n",
    "print('name' in a)\n",
    "print(a.get('nokey')) # 오류발생 VS None값\n",
    "print(a['nokey']) "
   ]
  }
 ],
 "metadata": {
  "kernelspec": {
   "display_name": "Python 3 (ipykernel)",
   "language": "python",
   "name": "python3"
  },
  "language_info": {
   "codemirror_mode": {
    "name": "ipython",
    "version": 3
   },
   "file_extension": ".py",
   "mimetype": "text/x-python",
   "name": "python",
   "nbconvert_exporter": "python",
   "pygments_lexer": "ipython3",
   "version": "3.9.7"
  }
 },
 "nbformat": 4,
 "nbformat_minor": 5
}
