{
 "cells": [
  {
   "cell_type": "markdown",
   "id": "0360fa41",
   "metadata": {},
   "source": [
    "### 02-3. 파이썬 프로그래밍의 기초, 자료형"
   ]
  },
  {
   "cell_type": "markdown",
   "id": "40dbdba5",
   "metadata": {},
   "source": [
    "#### 집합 자료형\n",
    "- set 키워드를 사용해 만들 수 있음\n",
    "- set의 특징\n",
    " - 중복을 허용하지 않는다\n",
    " - 순서가 없다(딕셔너리와의 공통점)\n",
    " - 순서가 없기 때문에 인덱싱으로 값을 얻을 수 없음\n",
    "- 집합 자료형 관련 함수\n",
    " - 값 1개 추가하기(add)\n",
    " - 값 여러 개 추가하기(update)\n",
    " - 특정 값 제거하기(remove)"
   ]
  },
  {
   "cell_type": "code",
   "execution_count": 1,
   "id": "59f1fd2f",
   "metadata": {},
   "outputs": [
    {
     "name": "stdout",
     "output_type": "stream",
     "text": [
      "{1, 2, 3}\n",
      "{'o', 'H', 'l', 'e'}\n"
     ]
    }
   ],
   "source": [
    "s1 = set([1, 2, 3])\n",
    "print(s1)\n",
    "\n",
    "s2 = set(\"Hello\")\n",
    "print(s2)"
   ]
  },
  {
   "cell_type": "code",
   "execution_count": 2,
   "id": "d5782a3c",
   "metadata": {},
   "outputs": [
    {
     "name": "stdout",
     "output_type": "stream",
     "text": [
      "[1, 2, 3]\n",
      "(1, 2, 3)\n"
     ]
    }
   ],
   "source": [
    "# set 자료형에 저장된 값을 인덱싱으로 접근하는 방법(리스트나 튜플로 변환)\n",
    "s1 = set([1, 2, 3])\n",
    "l1 = list(s1)\n",
    "print(l1)\n",
    "\n",
    "t1 = tuple(s1)\n",
    "print(t1)"
   ]
  },
  {
   "cell_type": "code",
   "execution_count": 3,
   "id": "850d46a5",
   "metadata": {},
   "outputs": [
    {
     "name": "stdout",
     "output_type": "stream",
     "text": [
      "{4, 5, 6}\n",
      "{4, 5, 6}\n",
      "{1, 2, 3, 4, 5, 6, 7, 8, 9}\n",
      "{1, 2, 3, 4, 5, 6, 7, 8, 9}\n",
      "{1, 2, 3}\n",
      "{1, 2, 3}\n"
     ]
    }
   ],
   "source": [
    "# 교집합, 합집합, 차집합 구하기\n",
    "s1 = set([1, 2, 3, 4, 5, 6])\n",
    "s2 = set([4, 5, 6, 7, 8, 9])\n",
    "\n",
    "print(s1 & s2) # 교집합 구하는 법: & or intersection\n",
    "print(s1.intersection(s2))\n",
    "\n",
    "print(s1 | s2) # 합집합 구하는 법: | or union\n",
    "print(s1.union(s2)) \n",
    "\n",
    "print(s1 - s2) # 차집합 구하는 법: - or difference\n",
    "print(s1.difference(s2))"
   ]
  },
  {
   "cell_type": "code",
   "execution_count": 6,
   "id": "c25c7404",
   "metadata": {},
   "outputs": [
    {
     "name": "stdout",
     "output_type": "stream",
     "text": [
      "{1, 2, 3, 4}\n",
      "{1, 2, 3, 4, 5, 6}\n",
      "{1, 3, 4, 5, 6}\n"
     ]
    }
   ],
   "source": [
    "# 값 1개 추가하기, 값 여러개 추가하기, 특정 값 제거하기\n",
    "s1 = set([1, 2, 3])\n",
    "s1.add(4)\n",
    "print(s1)\n",
    "\n",
    "s1.update([4, 5, 6])\n",
    "print(s1)\n",
    "\n",
    "s1.remove(2)\n",
    "print(s1)"
   ]
  },
  {
   "cell_type": "markdown",
   "id": "993c260d",
   "metadata": {},
   "source": [
    "#### 불 자료형\n",
    "- 참과 거짓을 나타내는 자료형\n",
    "- True 혹은 False 두가지 값만 가질 수 있음\n",
    "- 자료형에도 참과 거짓이 존재\n",
    " - 문자열, 리스트, 튜플, 딕셔너리 등의 값이 비어있으면 거짓, 비어있지 않으면 참\n",
    " - 숫자는 그 값이 0이 될 때 거짓\n",
    "- bool 내장 함수를 이용하면 자료형의 참과 거짓을 식별할 수 있음"
   ]
  },
  {
   "cell_type": "code",
   "execution_count": 7,
   "id": "5a2b1830",
   "metadata": {},
   "outputs": [
    {
     "name": "stdout",
     "output_type": "stream",
     "text": [
      "<class 'bool'>\n"
     ]
    }
   ],
   "source": [
    "a = True\n",
    "b = False\n",
    "print(type(a))"
   ]
  },
  {
   "cell_type": "code",
   "execution_count": 10,
   "id": "b973f0b9",
   "metadata": {},
   "outputs": [
    {
     "name": "stdout",
     "output_type": "stream",
     "text": [
      "4\n",
      "3\n",
      "2\n",
      "1\n"
     ]
    }
   ],
   "source": [
    "a = [1, 2, 3, 4]\n",
    "while a:\n",
    "    print(a.pop())"
   ]
  },
  {
   "cell_type": "code",
   "execution_count": 14,
   "id": "ad492a7f",
   "metadata": {},
   "outputs": [
    {
     "name": "stdout",
     "output_type": "stream",
     "text": [
      "거짓\n"
     ]
    }
   ],
   "source": [
    "if []:\n",
    "    print(\"참\")\n",
    "else:\n",
    "    print(\"거짓\")"
   ]
  },
  {
   "cell_type": "code",
   "execution_count": 12,
   "id": "46642bdc",
   "metadata": {},
   "outputs": [
    {
     "name": "stdout",
     "output_type": "stream",
     "text": [
      "참\n"
     ]
    }
   ],
   "source": [
    "if [1, 2, 3]:\n",
    "    print(\"참\")\n",
    "else:\n",
    "    print(\"거짓\")"
   ]
  },
  {
   "cell_type": "markdown",
   "id": "37c3d339",
   "metadata": {},
   "source": [
    "#### 자료형의 값을 저장하는 공간, 변수\n",
    "- 변수 이름 = 변수에 저장할 값\n",
    "- 파이썬은 변수에 저장된 값을 스스로 판단하여 자료형을 지정\n",
    "- 리스트를 복사할 때: [:}사용, copy 모듈 사용"
   ]
  },
  {
   "cell_type": "code",
   "execution_count": 15,
   "id": "2d25aaef",
   "metadata": {},
   "outputs": [
    {
     "name": "stdout",
     "output_type": "stream",
     "text": [
      "3230145471360\n"
     ]
    }
   ],
   "source": [
    "# 메모리 주소\n",
    "a = [1, 2, 3]\n",
    "print(id(a)) # id 함수: 변수가 가리키고 있는 객체의 주소 값을 돌려주는 파이썬 내장 함수"
   ]
  },
  {
   "cell_type": "code",
   "execution_count": 16,
   "id": "9329b3e8",
   "metadata": {},
   "outputs": [
    {
     "name": "stdout",
     "output_type": "stream",
     "text": [
      "[1, 4, 3]\n",
      "[1, 2, 3]\n"
     ]
    }
   ],
   "source": [
    "# [:] 사용 \n",
    "a = [1, 2, 3]\n",
    "b = a[:]\n",
    "a[1] = 4\n",
    "print(a)\n",
    "print(b)"
   ]
  },
  {
   "cell_type": "code",
   "execution_count": 19,
   "id": "733af9e5",
   "metadata": {},
   "outputs": [
    {
     "name": "stdout",
     "output_type": "stream",
     "text": [
      "[1, 2, 3]\n",
      "[1, 2, 3]\n",
      "False\n"
     ]
    }
   ],
   "source": [
    "# copy 모듈 사용\n",
    "from copy import copy\n",
    "a = [1, 2, 3]\n",
    "b = copy(a)\n",
    "print(a)\n",
    "print(b)\n",
    "print(b is a)"
   ]
  },
  {
   "cell_type": "code",
   "execution_count": 20,
   "id": "b06dc716",
   "metadata": {},
   "outputs": [],
   "source": [
    "# 변수를 만드는 여러가지 방법\n",
    "a, b = ('python', 'life')\n",
    "(a,b) = 'python', 'life' # 튜플은 괄호 생략 가능\n",
    "[a, b] = ['python', 'life']\n",
    "a = b = 'python'"
   ]
  }
 ],
 "metadata": {
  "kernelspec": {
   "display_name": "Python 3 (ipykernel)",
   "language": "python",
   "name": "python3"
  },
  "language_info": {
   "codemirror_mode": {
    "name": "ipython",
    "version": 3
   },
   "file_extension": ".py",
   "mimetype": "text/x-python",
   "name": "python",
   "nbconvert_exporter": "python",
   "pygments_lexer": "ipython3",
   "version": "3.9.7"
  }
 },
 "nbformat": 4,
 "nbformat_minor": 5
}
